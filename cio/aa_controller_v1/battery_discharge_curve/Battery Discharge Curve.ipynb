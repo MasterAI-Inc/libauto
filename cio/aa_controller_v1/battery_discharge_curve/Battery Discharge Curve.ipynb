{
 "cells": [
  {
   "cell_type": "markdown",
   "metadata": {},
   "source": [
    "# Battery Discharge Curve\n",
    "\n",
    "Testing the AutoAuto 2-cell LiPo battery, specifically plotting the battery's dicharge curve with the goal of characterizing it so we can predict battery `minutes remaining` and `percentage remaining` while the car is running."
   ]
  },
  {
   "cell_type": "code",
   "execution_count": 1,
   "metadata": {},
   "outputs": [],
   "source": [
    "import pandas as pd\n",
    "import numpy as np\n",
    "\n",
    "import matplotlib.pyplot as plt\n",
    "\n",
    "%matplotlib inline"
   ]
  },
  {
   "cell_type": "markdown",
   "metadata": {},
   "source": [
    "### Load the Data\n",
    "\n",
    "This data was collected by doing a constant-power drain on the battery. The method was **not** perfect, but it was certainly \"good enough\" for our needs.\n",
    "\n",
    "We achieved this _roughly_ constant-power drain from the battery by drawing a constant current through the on-board 5v switching DC-DC step-down regulator. We assume that the converter's efficiency is constant over the entire voltage range of the battery (~8.2v down to ~6.5v). With that assumption, and by drawing constant current from the output of the switching regulator, we can conclude that the battery saw a (roughly) constant-power drain.\n",
    "\n",
    "But how much current did we draw from the output of the 5v regulator? The 5v regulator was powering the following fixed-current devices:\n",
    "1. A constant-current device set to draw 1A.\n",
    "2. The onboard microcontroller.\n",
    "3. The onboard IMU.\n",
    "\n",
    "The microcontroller and IMU should draw a constant current when idle (approx. 67 mA by my measurements).\n",
    "\n",
    "We also had the ESC plugged in during this test. The ESC draws ~100 mA when it's idle, for some dumb reason, and it doesn't go through the 5v regulator. This breaks our \"constant power\" assumption but we'll move ahead anyway.\n",
    "\n",
    "All told let's ballpark say we're drawing the following constant power from the battery:\n",
    "- 1A * 5v * 90% efficiency\n",
    "- 67 mA * 5v * 90% efficiency\n",
    "- 100 mA * 7.5v\n",
    "\n",
    "Equals: 5.55 W\n",
    "\n",
    "The battery we're using is rated for 2200 mAh, so if we squint and consider an ideal battery at its nominal voltage, let's say that's approximately 2.2 A * 7.5v for one hour which is 16.5 Wh. That means, by these very very rough calculations, that our battery in this configuration should last ~3 hours. The actuall test which follows shows it lasted 2 hours and 18 minutes. Eh, whatever. We just care about the discharge curve, so this data is useful for that reason."
   ]
  },
  {
   "cell_type": "code",
   "execution_count": 2,
   "metadata": {},
   "outputs": [
    {
     "data": {
      "text/html": [
       "<div>\n",
       "<style scoped>\n",
       "    .dataframe tbody tr th:only-of-type {\n",
       "        vertical-align: middle;\n",
       "    }\n",
       "\n",
       "    .dataframe tbody tr th {\n",
       "        vertical-align: top;\n",
       "    }\n",
       "\n",
       "    .dataframe thead th {\n",
       "        text-align: right;\n",
       "    }\n",
       "</style>\n",
       "<table border=\"1\" class=\"dataframe\">\n",
       "  <thead>\n",
       "    <tr style=\"text-align: right;\">\n",
       "      <th></th>\n",
       "      <th>counter</th>\n",
       "      <th>time</th>\n",
       "      <th>millivolts</th>\n",
       "    </tr>\n",
       "    <tr>\n",
       "      <th>time</th>\n",
       "      <th></th>\n",
       "      <th></th>\n",
       "      <th></th>\n",
       "    </tr>\n",
       "  </thead>\n",
       "  <tbody>\n",
       "    <tr>\n",
       "      <th>00:00:00.010848</th>\n",
       "      <td>0</td>\n",
       "      <td>0.010849</td>\n",
       "      <td>8230</td>\n",
       "    </tr>\n",
       "    <tr>\n",
       "      <th>00:00:01.013289</th>\n",
       "      <td>1</td>\n",
       "      <td>1.013290</td>\n",
       "      <td>8230</td>\n",
       "    </tr>\n",
       "    <tr>\n",
       "      <th>00:00:02.009260</th>\n",
       "      <td>2</td>\n",
       "      <td>2.009261</td>\n",
       "      <td>8230</td>\n",
       "    </tr>\n",
       "    <tr>\n",
       "      <th>00:00:03.011258</th>\n",
       "      <td>3</td>\n",
       "      <td>3.011258</td>\n",
       "      <td>8230</td>\n",
       "    </tr>\n",
       "    <tr>\n",
       "      <th>00:00:04.011894</th>\n",
       "      <td>4</td>\n",
       "      <td>4.011894</td>\n",
       "      <td>8230</td>\n",
       "    </tr>\n",
       "  </tbody>\n",
       "</table>\n",
       "</div>"
      ],
      "text/plain": [
       "                 counter      time  millivolts\n",
       "time                                          \n",
       "00:00:00.010848        0  0.010849        8230\n",
       "00:00:01.013289        1  1.013290        8230\n",
       "00:00:02.009260        2  2.009261        8230\n",
       "00:00:03.011258        3  3.011258        8230\n",
       "00:00:04.011894        4  4.011894        8230"
      ]
     },
     "execution_count": 2,
     "metadata": {},
     "output_type": "execute_result"
    }
   ],
   "source": [
    "df = pd.read_csv(\"batlog_1A.csv\")\n",
    "\n",
    "df.rename(columns={'index': 'counter'}, inplace=True)\n",
    "\n",
    "df.index = pd.to_timedelta(df.time, unit='second')\n",
    "\n",
    "df.head()"
   ]
  },
  {
   "cell_type": "markdown",
   "metadata": {},
   "source": [
    "### Check the Collection Rate\n",
    "\n",
    "My data collecting script should have recorded one observation per second. I want to sanity check it by comparing the counter with the timestamp to be sure my program \"kept up\" with the logging as it should have."
   ]
  },
  {
   "cell_type": "code",
   "execution_count": 3,
   "metadata": {},
   "outputs": [
    {
     "name": "stdout",
     "output_type": "stream",
     "text": [
      "0.007676362991333008 0.12233114242508236\n"
     ]
    }
   ],
   "source": [
    "diffs = df.time - df.counter\n",
    "\n",
    "print(diffs.min(), diffs.max())\n",
    "\n",
    "assert 0 <= diffs.min() <= 0.3\n",
    "assert 0 <= diffs.max() <= 0.3"
   ]
  },
  {
   "cell_type": "markdown",
   "metadata": {},
   "source": [
    "### Visualize"
   ]
  },
  {
   "cell_type": "code",
   "execution_count": 4,
   "metadata": {},
   "outputs": [
    {
     "data": {
      "text/plain": [
       "<matplotlib.axes._subplots.AxesSubplot at 0x6cc836b0>"
      ]
     },
     "execution_count": 4,
     "metadata": {},
     "output_type": "execute_result"
    },
    {
     "data": {
      "image/png": "[encoded data removed]",
      "text/plain": [
       "<Figure size 432x288 with 1 Axes>"
      ]
     },
     "metadata": {
      "needs_background": "light"
     },
     "output_type": "display_data"
    }
   ],
   "source": [
    "df.millivolts.plot()"
   ]
  },
  {
   "cell_type": "code",
   "execution_count": 5,
   "metadata": {},
   "outputs": [
    {
     "data": {
      "text/plain": [
       "<matplotlib.axes._subplots.AxesSubplot at 0x6ab47390>"
      ]
     },
     "execution_count": 5,
     "metadata": {},
     "output_type": "execute_result"
    },
    {
     "data": {
      "image/png": "[encoded data removed]",
      "text/plain": [
       "<Figure size 432x288 with 1 Axes>"
      ]
     },
     "metadata": {
      "needs_background": "light"
     },
     "output_type": "display_data"
    }
   ],
   "source": [
    "df.millivolts.resample('1min').mean().plot()"
   ]
  },
  {
   "cell_type": "markdown",
   "metadata": {},
   "source": [
    "### Build a Lookup Table\n",
    "\n",
    "The curve doesn't follow any common function. It is its own thing. We'll build a lookup table so we can estimate the `percentage remaining` at any given voltage.\n",
    "\n",
    "We'll don't want to let the the voltage drop _way off_ as you see in the plot above. That's a bit too risky and hard on the battery. We'll declare that 7100 millivolts is 0% battery.\n",
    "\n",
    "We'll also declare that 8150 is fully charged even though you see above that the battery starts a bit above that. My reasoning is that I want the user to see \"100%\" for a few minutes when they first turn on the car. It's what they'll expect.\n",
    "\n",
    "Finally, we'll use the average values over each minutes because the per-second data is way too noisy and it would be rediculous to use the per-second data anyway because no one thinks of battery lifetime in seconds."
   ]
  },
  {
   "cell_type": "code",
   "execution_count": 6,
   "metadata": {},
   "outputs": [
    {
     "data": {
      "text/plain": [
       "time\n",
       "00:00:00.010848    8214.500000\n",
       "00:01:00.010848    8198.333333\n",
       "00:02:00.010848    8173.633333\n",
       "00:03:00.010848    8166.950820\n",
       "00:04:00.010848    8155.966102\n",
       "Freq: T, Name: millivolts, dtype: float64"
      ]
     },
     "execution_count": 6,
     "metadata": {},
     "output_type": "execute_result"
    }
   ],
   "source": [
    "min_millivolts = 7100   # \"0% battery\"\n",
    "max_millivolts = 8150   # \"100% battery\"\n",
    "\n",
    "df_mins = df.millivolts.resample('1min').mean()\n",
    "\n",
    "df_mins.head()"
   ]
  },
  {
   "cell_type": "code",
   "execution_count": 7,
   "metadata": {},
   "outputs": [
    {
     "data": {
      "text/plain": [
       "time\n",
       "00:05:00.010848    8142.200000\n",
       "00:06:00.010848    8125.666667\n",
       "00:07:00.010848    8108.800000\n",
       "00:08:00.010848    8097.836066\n",
       "00:09:00.010848    8088.881356\n",
       "Freq: T, Name: millivolts, dtype: float64"
      ]
     },
     "execution_count": 7,
     "metadata": {},
     "output_type": "execute_result"
    }
   ],
   "source": [
    "mask = (min_millivolts <= df_mins) & (df_mins <= max_millivolts)\n",
    "\n",
    "df_mins = df_mins[mask].copy()\n",
    "\n",
    "df_mins.head()"
   ]
  },
  {
   "cell_type": "code",
   "execution_count": 8,
   "metadata": {},
   "outputs": [
    {
     "data": {
      "text/html": [
       "<div>\n",
       "<style scoped>\n",
       "    .dataframe tbody tr th:only-of-type {\n",
       "        vertical-align: middle;\n",
       "    }\n",
       "\n",
       "    .dataframe tbody tr th {\n",
       "        vertical-align: top;\n",
       "    }\n",
       "\n",
       "    .dataframe thead th {\n",
       "        text-align: right;\n",
       "    }\n",
       "</style>\n",
       "<table border=\"1\" class=\"dataframe\">\n",
       "  <thead>\n",
       "    <tr style=\"text-align: right;\">\n",
       "      <th></th>\n",
       "      <th>millivolts</th>\n",
       "      <th>percentage</th>\n",
       "    </tr>\n",
       "    <tr>\n",
       "      <th>time</th>\n",
       "      <th></th>\n",
       "      <th></th>\n",
       "    </tr>\n",
       "  </thead>\n",
       "  <tbody>\n",
       "    <tr>\n",
       "      <th>00:05:00.010848</th>\n",
       "      <td>8142.200000</td>\n",
       "      <td>100.000000</td>\n",
       "    </tr>\n",
       "    <tr>\n",
       "      <th>00:06:00.010848</th>\n",
       "      <td>8125.666667</td>\n",
       "      <td>99.186992</td>\n",
       "    </tr>\n",
       "    <tr>\n",
       "      <th>00:07:00.010848</th>\n",
       "      <td>8108.800000</td>\n",
       "      <td>98.373984</td>\n",
       "    </tr>\n",
       "    <tr>\n",
       "      <th>00:08:00.010848</th>\n",
       "      <td>8097.836066</td>\n",
       "      <td>97.560976</td>\n",
       "    </tr>\n",
       "    <tr>\n",
       "      <th>00:09:00.010848</th>\n",
       "      <td>8088.881356</td>\n",
       "      <td>96.747967</td>\n",
       "    </tr>\n",
       "  </tbody>\n",
       "</table>\n",
       "</div>"
      ],
      "text/plain": [
       "                  millivolts  percentage\n",
       "time                                    \n",
       "00:05:00.010848  8142.200000  100.000000\n",
       "00:06:00.010848  8125.666667   99.186992\n",
       "00:07:00.010848  8108.800000   98.373984\n",
       "00:08:00.010848  8097.836066   97.560976\n",
       "00:09:00.010848  8088.881356   96.747967"
      ]
     },
     "execution_count": 8,
     "metadata": {},
     "output_type": "execute_result"
    }
   ],
   "source": [
    "percentage = 100.0 - np.linspace(0.0, 100.0, len(df_mins))\n",
    "\n",
    "df_map = pd.DataFrame({'millivolts': df_mins, 'percentage': percentage})\n",
    "\n",
    "df_map.head()"
   ]
  },
  {
   "cell_type": "code",
   "execution_count": 9,
   "metadata": {},
   "outputs": [
    {
     "data": {
      "text/html": [
       "<div>\n",
       "<style scoped>\n",
       "    .dataframe tbody tr th:only-of-type {\n",
       "        vertical-align: middle;\n",
       "    }\n",
       "\n",
       "    .dataframe tbody tr th {\n",
       "        vertical-align: top;\n",
       "    }\n",
       "\n",
       "    .dataframe thead th {\n",
       "        text-align: right;\n",
       "    }\n",
       "</style>\n",
       "<table border=\"1\" class=\"dataframe\">\n",
       "  <thead>\n",
       "    <tr style=\"text-align: right;\">\n",
       "      <th></th>\n",
       "      <th>millivolts</th>\n",
       "      <th>percentage</th>\n",
       "    </tr>\n",
       "    <tr>\n",
       "      <th>time</th>\n",
       "      <th></th>\n",
       "      <th></th>\n",
       "    </tr>\n",
       "  </thead>\n",
       "  <tbody>\n",
       "    <tr>\n",
       "      <th>02:04:00.010848</th>\n",
       "      <td>7181.766667</td>\n",
       "      <td>3.252033</td>\n",
       "    </tr>\n",
       "    <tr>\n",
       "      <th>02:05:00.010848</th>\n",
       "      <td>7171.533333</td>\n",
       "      <td>2.439024</td>\n",
       "    </tr>\n",
       "    <tr>\n",
       "      <th>02:06:00.010848</th>\n",
       "      <td>7156.426230</td>\n",
       "      <td>1.626016</td>\n",
       "    </tr>\n",
       "    <tr>\n",
       "      <th>02:07:00.010848</th>\n",
       "      <td>7132.576271</td>\n",
       "      <td>0.813008</td>\n",
       "    </tr>\n",
       "    <tr>\n",
       "      <th>02:08:00.010848</th>\n",
       "      <td>7107.666667</td>\n",
       "      <td>0.000000</td>\n",
       "    </tr>\n",
       "  </tbody>\n",
       "</table>\n",
       "</div>"
      ],
      "text/plain": [
       "                  millivolts  percentage\n",
       "time                                    \n",
       "02:04:00.010848  7181.766667    3.252033\n",
       "02:05:00.010848  7171.533333    2.439024\n",
       "02:06:00.010848  7156.426230    1.626016\n",
       "02:07:00.010848  7132.576271    0.813008\n",
       "02:08:00.010848  7107.666667    0.000000"
      ]
     },
     "execution_count": 9,
     "metadata": {},
     "output_type": "execute_result"
    }
   ],
   "source": [
    "df_map.tail()"
   ]
  },
  {
   "cell_type": "code",
   "execution_count": 10,
   "metadata": {},
   "outputs": [
    {
     "name": "stdout",
     "output_type": "stream",
     "text": [
      "71.50809861370959\n",
      "100.0\n",
      "0.0\n"
     ]
    }
   ],
   "source": [
    "millivolts  = df_map.millivolts.values[::-1]  # Reverse so that the values are increasing.\n",
    "percentages = df_map.percentage.values[::-1]  # Reverse to match `xs`.\n",
    "\n",
    "print(np.interp(7700.0, millivolts, percentages))\n",
    "print(np.interp(8400, millivolts, percentages))\n",
    "print(np.interp(6800, millivolts, percentages))"
   ]
  },
  {
   "cell_type": "markdown",
   "metadata": {},
   "source": [
    "### Done!\n",
    "\n",
    "We've created a map between battery millivolts and `percentage remaining`!\n",
    "\n",
    "Let's store the results."
   ]
  },
  {
   "cell_type": "code",
   "execution_count": 11,
   "metadata": {},
   "outputs": [],
   "source": [
    "np.savez_compressed(\"battery_percentage_map.npz\", millivolts=millivolts, percentages=percentages)"
   ]
  },
  {
   "cell_type": "code",
   "execution_count": null,
   "metadata": {},
   "outputs": [],
   "source": []
  }
 ],
 "metadata": {
  "kernelspec": {
   "display_name": "Python 3",
   "language": "python",
   "name": "python3"
  },
  "language_info": {
   "codemirror_mode": {
    "name": "ipython",
    "version": 3
   },
   "file_extension": ".py",
   "mimetype": "text/x-python",
   "name": "python",
   "nbconvert_exporter": "python",
   "pygments_lexer": "ipython3",
   "version": "3.7.3"
  }
 },
 "nbformat": 4,
 "nbformat_minor": 2
}
